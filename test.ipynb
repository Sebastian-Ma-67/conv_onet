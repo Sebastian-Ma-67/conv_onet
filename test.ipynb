{
 "cells": [
  {
   "cell_type": "code",
   "execution_count": null,
   "metadata": {},
   "outputs": [],
   "source": [
    "import os\n",
    "from plyfile import PlyElement, PlyData\n",
    "import numpy as np"
   ]
  },
  {
   "cell_type": "code",
   "execution_count": null,
   "metadata": {},
   "outputs": [],
   "source": [
    "def load_pointcloud(in_file):\n",
    "    plydata = PlyData.read(in_file)\n",
    "    vertices = np.stack([\n",
    "        plydata['vertex']['x'],\n",
    "        plydata['vertex']['y'],\n",
    "        plydata['vertex']['z']\n",
    "    ], axis=1)\n",
    "    normals = np.stack([\n",
    "       plydata['vertex']['nx'],\n",
    "       plydata['vertex']['ny'],\n",
    "       plydata['vertex']['nz']\n",
    "    ], axis=1)\n",
    "    return vertices, normals\n",
    "\n",
    "pointcloud, normals= load_pointcloud(\"data/factory/obj/factory-10m-mini.ply\")\n",
    "np.savez(\"factory-10m-mini.npz\", points=pointcloud, normals=normals)"
   ]
  },
  {
   "cell_type": "code",
   "execution_count": null,
   "metadata": {},
   "outputs": [
    {
     "ename": "",
     "evalue": "",
     "output_type": "error",
     "traceback": [
      "\u001b[1;31mRunning cells with 'Python 3.6.7 ('convonet')' requires ipykernel package.\n",
      "\u001b[1;31mRun the following command to install 'ipykernel' into the Python environment. \n",
      "\u001b[1;31mCommand: 'conda install -n convonet ipykernel --update-deps --force-reinstall'"
     ]
    }
   ],
   "source": [
    "import torch\n",
    "a = torch.randn(4, 4)\n",
    "a\n",
    "torch.max(a, 1)"
   ]
  },
  {
   "cell_type": "code",
   "execution_count": null,
   "metadata": {},
   "outputs": [
    {
     "ename": "",
     "evalue": "",
     "output_type": "error",
     "traceback": [
      "\u001b[1;31mRunning cells with 'Python 3.6.7 ('convonet')' requires ipykernel package.\n",
      "\u001b[1;31mRun the following command to install 'ipykernel' into the Python environment. \n",
      "\u001b[1;31mCommand: 'conda install -n convonet ipykernel --update-deps --force-reinstall'"
     ]
    }
   ],
   "source": [
    "import torch"
   ]
  },
  {
   "cell_type": "code",
   "execution_count": null,
   "metadata": {},
   "outputs": [],
   "source": []
  }
 ],
 "metadata": {
  "kernelspec": {
   "display_name": "Python 3.6.7 ('convonet')",
   "language": "python",
   "name": "python3"
  },
  "language_info": {
   "name": "python",
   "version": "3.6.7"
  },
  "orig_nbformat": 4,
  "vscode": {
   "interpreter": {
    "hash": "e32106175cb35e3d53d465f3804671ce195c2568e47e7b979ba455ca5867e8b6"
   }
  }
 },
 "nbformat": 4,
 "nbformat_minor": 2
}
