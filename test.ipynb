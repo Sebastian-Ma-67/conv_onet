{
 "cells": [
  {
   "cell_type": "code",
   "execution_count": null,
   "metadata": {},
   "outputs": [],
   "source": [
    "import os\n",
    "from plyfile import PlyElement, PlyData\n",
    "import numpy as np"
   ]
  },
  {
   "cell_type": "code",
   "execution_count": null,
   "metadata": {},
   "outputs": [],
   "source": [
    "def load_pointcloud(in_file):\n",
    "    plydata = PlyData.read(in_file)\n",
    "    vertices = np.stack([\n",
    "        plydata['vertex']['x'],\n",
    "        plydata['vertex']['y'],\n",
    "        plydata['vertex']['z']\n",
    "    ], axis=1)\n",
    "    normals = np.stack([\n",
    "       plydata['vertex']['nx'],\n",
    "       plydata['vertex']['ny'],\n",
    "       plydata['vertex']['nz']\n",
    "    ], axis=1)\n",
    "    return vertices, normals\n",
    "\n",
    "pointcloud, normals= load_pointcloud(\"data/factory/obj/factory-10m-mini.ply\")\n",
    "np.savez(\"factory-10m-mini.npz\", points=pointcloud, normals=normals)"
   ]
  }
 ],
 "metadata": {
  "language_info": {
   "name": "python"
  },
  "orig_nbformat": 4
 },
 "nbformat": 4,
 "nbformat_minor": 2
}
